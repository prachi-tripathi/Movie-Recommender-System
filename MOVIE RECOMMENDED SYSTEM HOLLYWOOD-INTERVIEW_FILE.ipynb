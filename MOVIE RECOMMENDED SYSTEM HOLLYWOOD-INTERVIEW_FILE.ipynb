{
 "cells": [
  {
   "cell_type": "code",
   "execution_count": 1,
   "metadata": {},
   "outputs": [],
   "source": [
    "import pandas as pd\n",
    "import numpy as np\n",
    "import warnings\n",
    "warnings.filterwarnings('ignore')\n",
    "from sklearn.feature_extraction.text import TfidfVectorizer\n",
    "from sklearn.metrics.pairwise import sigmoid_kernel\n",
    "import requests\n",
    "import responses\n",
    "from PIL import Image\n",
    "import io\n",
    "from ipywidgets import widgets, VBox, HBox, Box, HTML, Layout,interact\n",
    "import json"
   ]
  },
  {
   "cell_type": "code",
   "execution_count": 2,
   "metadata": {},
   "outputs": [],
   "source": [
    "df = pd.read_csv('movies.csv')\n",
    "movies =df.copy()\n",
    "#movies.head()\n",
    "#print('shape of movies dataset',movies.shape)\n"
   ]
  },
  {
   "cell_type": "code",
   "execution_count": 3,
   "metadata": {},
   "outputs": [],
   "source": [
    "#movies.columns"
   ]
  },
  {
   "cell_type": "code",
   "execution_count": 4,
   "metadata": {},
   "outputs": [],
   "source": [
    "#movies['id'].head()"
   ]
  },
  {
   "cell_type": "code",
   "execution_count": 5,
   "metadata": {},
   "outputs": [],
   "source": [
    "df = pd.read_csv('credits.csv', usecols=['movie_id','title'])\n",
    "credits = df.copy()\n",
    "credits= credits.rename(columns={'movie_id':'id'},index=str)\n",
    "#print('shape of credit dataset',credits.shape)\n"
   ]
  },
  {
   "cell_type": "code",
   "execution_count": 6,
   "metadata": {},
   "outputs": [],
   "source": [
    "df = pd.read_csv('credits.csv')\n",
    "credits = df.copy()\n",
    "credits= credits.rename(columns={'movie_id':'id'},index=str)\n",
    "#credits.head()\n",
    "#print('shape of credit dataset',credits.shape)\n",
    "  "
   ]
  },
  {
   "cell_type": "code",
   "execution_count": 7,
   "metadata": {},
   "outputs": [],
   "source": [
    "merged_df = movies.merge(credits,on='id')\n",
    "#merged_df .head(1)"
   ]
  },
  {
   "cell_type": "code",
   "execution_count": 8,
   "metadata": {},
   "outputs": [],
   "source": [
    "merged_df = merged_df.drop(['homepage','title_x','title_y','status','production_companies'],axis=1)"
   ]
  },
  {
   "cell_type": "code",
   "execution_count": 9,
   "metadata": {},
   "outputs": [],
   "source": [
    "#merged_df.info()"
   ]
  },
  {
   "cell_type": "code",
   "execution_count": 10,
   "metadata": {},
   "outputs": [],
   "source": [
    "#merged_df.head(1)['overview']\n",
    "#print(merged_df['overview'].isnull().sum())"
   ]
  },
  {
   "cell_type": "code",
   "execution_count": 11,
   "metadata": {},
   "outputs": [],
   "source": [
    "#merged_df.columns"
   ]
  },
  {
   "cell_type": "code",
   "execution_count": 12,
   "metadata": {},
   "outputs": [],
   "source": [
    "using_value_of_merged_df= merged_df[['id','original_title','overview','vote_average']]\n",
    "#print(using_value_of_merged_df.shape)\n",
    "#using_value_of_merged_df"
   ]
  },
  {
   "cell_type": "code",
   "execution_count": 13,
   "metadata": {},
   "outputs": [],
   "source": [
    "indices = pd.Series(movies.index,index = using_value_of_merged_df['original_title'])\n",
    "#type(indices)\n",
    "indices = indices.drop_duplicates()\n",
    "#print(indices.shape)\n",
    "#indices"
   ]
  },
  {
   "cell_type": "code",
   "execution_count": 14,
   "metadata": {},
   "outputs": [],
   "source": [
    "indices = pd.DataFrame(indices).reset_index()"
   ]
  },
  {
   "cell_type": "code",
   "execution_count": 15,
   "metadata": {},
   "outputs": [],
   "source": [
    "indices= indices.rename(columns={0:'index_values'},index=str)\n",
    "#indices"
   ]
  },
  {
   "cell_type": "code",
   "execution_count": 16,
   "metadata": {},
   "outputs": [],
   "source": [
    "final_df = indices.merge(using_value_of_merged_df,on='original_title')\n",
    "#final_df['index_values'] = final_df['index_values'].apply(str)\n",
    "#final_df['id'] = final_df['id'].apply(str)\n",
    "#final_df"
   ]
  },
  {
   "cell_type": "code",
   "execution_count": 17,
   "metadata": {},
   "outputs": [],
   "source": [
    "\n",
    "tvf = TfidfVectorizer(min_df=3,\n",
    "                      max_features=None,\n",
    "                      strip_accents='unicode',\n",
    "                      analyzer='word',\n",
    "                      token_pattern=r'\\w{1,}',\n",
    "                      ngram_range=(1,3),\n",
    "                      stop_words='english')\n",
    "\n",
    "#imputing Nan values with empty strings\n",
    "\n",
    "final_df['overview'] = final_df['overview'].fillna('')\n"
   ]
  },
  {
   "cell_type": "code",
   "execution_count": 18,
   "metadata": {},
   "outputs": [],
   "source": [
    "#print(final_df['overview'].isnull().sum())"
   ]
  },
  {
   "cell_type": "code",
   "execution_count": 19,
   "metadata": {},
   "outputs": [],
   "source": [
    "tvf_matrix = tvf.fit_transform(final_df['overview'])\n",
    "#print('tvf_matrix',tvf_matrix)\n",
    "#print('Shape of tvf_matrix', tvf_matrix.shape)"
   ]
  },
  {
   "cell_type": "code",
   "execution_count": 20,
   "metadata": {},
   "outputs": [],
   "source": [
    "sigmod = sigmoid_kernel(tvf_matrix,tvf_matrix)"
   ]
  },
  {
   "cell_type": "code",
   "execution_count": 21,
   "metadata": {},
   "outputs": [],
   "source": [
    "#final_df.info()"
   ]
  },
  {
   "cell_type": "code",
   "execution_count": 22,
   "metadata": {},
   "outputs": [],
   "source": [
    "def recommendation(title,sig=sigmod):\n",
    "    \n",
    "        \n",
    "    final_val = final_df.loc[final_df['original_title'] == title]\n",
    "    index  = final_val['index_values']\n",
    "    \n",
    "    # final_val['index_values'] --> this is returning the values as dataframe which sigmond fun is not accepting it accepts just integer value.\n",
    "    # Converting pandas df value into list and fetcing value of zero index and passing to sigmod\n",
    "    index = list(index)[0]\n",
    "    sigmod_values = sigmod[index]\n",
    "\n",
    "    sig_scores =  list(enumerate(sigmod_values)) \n",
    "    #print(sig_scores) \n",
    "        \n",
    "        \n",
    "    sig_scores = sorted(sig_scores,key = lambda x:x[1],reverse=True)\n",
    "    sig_scores =sig_scores[1:13]\n",
    "    \n",
    "    #for movies in sig_scores:\n",
    "    movies_indices = [i[0] for i in sig_scores]\n",
    "    #print('movies_indice',movies_indices)\n",
    "    \n",
    "    return final_df[['original_title','id','vote_average']].iloc[movies_indices] "
   ]
  },
  {
   "cell_type": "code",
   "execution_count": 23,
   "metadata": {},
   "outputs": [],
   "source": [
    "result_df = \"\"\n",
    "def returnRecommendedMovies(title):\n",
    "    global result_df\n",
    "    result_df = recommendation(title)\n",
    "    return pd.DataFrame(result_df)"
   ]
  },
  {
   "cell_type": "code",
   "execution_count": 24,
   "metadata": {},
   "outputs": [
    {
     "data": {
      "text/html": [
       "<div>\n",
       "<style scoped>\n",
       "    .dataframe tbody tr th:only-of-type {\n",
       "        vertical-align: middle;\n",
       "    }\n",
       "\n",
       "    .dataframe tbody tr th {\n",
       "        vertical-align: top;\n",
       "    }\n",
       "\n",
       "    .dataframe thead th {\n",
       "        text-align: right;\n",
       "    }\n",
       "</style>\n",
       "<table border=\"1\" class=\"dataframe\">\n",
       "  <thead>\n",
       "    <tr style=\"text-align: right;\">\n",
       "      <th></th>\n",
       "      <th>original_title</th>\n",
       "      <th>id</th>\n",
       "      <th>vote_average</th>\n",
       "    </tr>\n",
       "  </thead>\n",
       "  <tbody>\n",
       "    <tr>\n",
       "      <th>2530</th>\n",
       "      <td>National Lampoon's Vacation</td>\n",
       "      <td>11153</td>\n",
       "      <td>7.1</td>\n",
       "    </tr>\n",
       "    <tr>\n",
       "      <th>1197</th>\n",
       "      <td>Horrible Bosses 2</td>\n",
       "      <td>227159</td>\n",
       "      <td>6.1</td>\n",
       "    </tr>\n",
       "    <tr>\n",
       "      <th>28</th>\n",
       "      <td>Jurassic World</td>\n",
       "      <td>135397</td>\n",
       "      <td>6.5</td>\n",
       "    </tr>\n",
       "    <tr>\n",
       "      <th>1960</th>\n",
       "      <td>Dangerous Liaisons</td>\n",
       "      <td>859</td>\n",
       "      <td>7.0</td>\n",
       "    </tr>\n",
       "    <tr>\n",
       "      <th>4409</th>\n",
       "      <td>Karachi se Lahore</td>\n",
       "      <td>357441</td>\n",
       "      <td>8.0</td>\n",
       "    </tr>\n",
       "    <tr>\n",
       "      <th>675</th>\n",
       "      <td>Jurassic Park</td>\n",
       "      <td>329</td>\n",
       "      <td>7.6</td>\n",
       "    </tr>\n",
       "    <tr>\n",
       "      <th>3484</th>\n",
       "      <td>Miss March</td>\n",
       "      <td>19556</td>\n",
       "      <td>5.4</td>\n",
       "    </tr>\n",
       "    <tr>\n",
       "      <th>2836</th>\n",
       "      <td>Johnson Family Vacation</td>\n",
       "      <td>19084</td>\n",
       "      <td>4.7</td>\n",
       "    </tr>\n",
       "    <tr>\n",
       "      <th>3359</th>\n",
       "      <td>Flirting with Disaster</td>\n",
       "      <td>2074</td>\n",
       "      <td>6.3</td>\n",
       "    </tr>\n",
       "    <tr>\n",
       "      <th>4308</th>\n",
       "      <td>Blue Like Jazz</td>\n",
       "      <td>98369</td>\n",
       "      <td>5.8</td>\n",
       "    </tr>\n",
       "    <tr>\n",
       "      <th>2165</th>\n",
       "      <td>Alpha and Omega</td>\n",
       "      <td>12819</td>\n",
       "      <td>5.3</td>\n",
       "    </tr>\n",
       "    <tr>\n",
       "      <th>1815</th>\n",
       "      <td>Rain Man</td>\n",
       "      <td>380</td>\n",
       "      <td>7.6</td>\n",
       "    </tr>\n",
       "  </tbody>\n",
       "</table>\n",
       "</div>"
      ],
      "text/plain": [
       "                   original_title      id  vote_average\n",
       "2530  National Lampoon's Vacation   11153           7.1\n",
       "1197            Horrible Bosses 2  227159           6.1\n",
       "28                 Jurassic World  135397           6.5\n",
       "1960           Dangerous Liaisons     859           7.0\n",
       "4409            Karachi se Lahore  357441           8.0\n",
       "675                 Jurassic Park     329           7.6\n",
       "3484                   Miss March   19556           5.4\n",
       "2836      Johnson Family Vacation   19084           4.7\n",
       "3359       Flirting with Disaster    2074           6.3\n",
       "4308               Blue Like Jazz   98369           5.8\n",
       "2165              Alpha and Omega   12819           5.3\n",
       "1815                     Rain Man     380           7.6"
      ]
     },
     "execution_count": 24,
     "metadata": {},
     "output_type": "execute_result"
    }
   ],
   "source": [
    "returnRecommendedMovies('Big Daddy')\n"
   ]
  },
  {
   "cell_type": "code",
   "execution_count": 25,
   "metadata": {},
   "outputs": [
    {
     "data": {
      "text/html": [
       "<div>\n",
       "<style scoped>\n",
       "    .dataframe tbody tr th:only-of-type {\n",
       "        vertical-align: middle;\n",
       "    }\n",
       "\n",
       "    .dataframe tbody tr th {\n",
       "        vertical-align: top;\n",
       "    }\n",
       "\n",
       "    .dataframe thead th {\n",
       "        text-align: right;\n",
       "    }\n",
       "</style>\n",
       "<table border=\"1\" class=\"dataframe\">\n",
       "  <thead>\n",
       "    <tr style=\"text-align: right;\">\n",
       "      <th></th>\n",
       "      <th>original_title</th>\n",
       "      <th>id</th>\n",
       "      <th>vote_average</th>\n",
       "    </tr>\n",
       "  </thead>\n",
       "  <tbody>\n",
       "    <tr>\n",
       "      <th>2530</th>\n",
       "      <td>National Lampoon's Vacation</td>\n",
       "      <td>11153</td>\n",
       "      <td>7.1</td>\n",
       "    </tr>\n",
       "    <tr>\n",
       "      <th>1197</th>\n",
       "      <td>Horrible Bosses 2</td>\n",
       "      <td>227159</td>\n",
       "      <td>6.1</td>\n",
       "    </tr>\n",
       "    <tr>\n",
       "      <th>28</th>\n",
       "      <td>Jurassic World</td>\n",
       "      <td>135397</td>\n",
       "      <td>6.5</td>\n",
       "    </tr>\n",
       "    <tr>\n",
       "      <th>1960</th>\n",
       "      <td>Dangerous Liaisons</td>\n",
       "      <td>859</td>\n",
       "      <td>7.0</td>\n",
       "    </tr>\n",
       "    <tr>\n",
       "      <th>4409</th>\n",
       "      <td>Karachi se Lahore</td>\n",
       "      <td>357441</td>\n",
       "      <td>8.0</td>\n",
       "    </tr>\n",
       "    <tr>\n",
       "      <th>675</th>\n",
       "      <td>Jurassic Park</td>\n",
       "      <td>329</td>\n",
       "      <td>7.6</td>\n",
       "    </tr>\n",
       "    <tr>\n",
       "      <th>3484</th>\n",
       "      <td>Miss March</td>\n",
       "      <td>19556</td>\n",
       "      <td>5.4</td>\n",
       "    </tr>\n",
       "    <tr>\n",
       "      <th>2836</th>\n",
       "      <td>Johnson Family Vacation</td>\n",
       "      <td>19084</td>\n",
       "      <td>4.7</td>\n",
       "    </tr>\n",
       "    <tr>\n",
       "      <th>3359</th>\n",
       "      <td>Flirting with Disaster</td>\n",
       "      <td>2074</td>\n",
       "      <td>6.3</td>\n",
       "    </tr>\n",
       "    <tr>\n",
       "      <th>4308</th>\n",
       "      <td>Blue Like Jazz</td>\n",
       "      <td>98369</td>\n",
       "      <td>5.8</td>\n",
       "    </tr>\n",
       "    <tr>\n",
       "      <th>2165</th>\n",
       "      <td>Alpha and Omega</td>\n",
       "      <td>12819</td>\n",
       "      <td>5.3</td>\n",
       "    </tr>\n",
       "    <tr>\n",
       "      <th>1815</th>\n",
       "      <td>Rain Man</td>\n",
       "      <td>380</td>\n",
       "      <td>7.6</td>\n",
       "    </tr>\n",
       "  </tbody>\n",
       "</table>\n",
       "</div>"
      ],
      "text/plain": [
       "                   original_title      id  vote_average\n",
       "2530  National Lampoon's Vacation   11153           7.1\n",
       "1197            Horrible Bosses 2  227159           6.1\n",
       "28                 Jurassic World  135397           6.5\n",
       "1960           Dangerous Liaisons     859           7.0\n",
       "4409            Karachi se Lahore  357441           8.0\n",
       "675                 Jurassic Park     329           7.6\n",
       "3484                   Miss March   19556           5.4\n",
       "2836      Johnson Family Vacation   19084           4.7\n",
       "3359       Flirting with Disaster    2074           6.3\n",
       "4308               Blue Like Jazz   98369           5.8\n",
       "2165              Alpha and Omega   12819           5.3\n",
       "1815                     Rain Man     380           7.6"
      ]
     },
     "execution_count": 25,
     "metadata": {},
     "output_type": "execute_result"
    }
   ],
   "source": [
    "result_df"
   ]
  },
  {
   "cell_type": "code",
   "execution_count": 26,
   "metadata": {},
   "outputs": [
    {
     "data": {
      "application/vnd.jupyter.widget-view+json": {
       "model_id": "9fd911fef3c14155a55f7a30a464c114",
       "version_major": 2,
       "version_minor": 0
      },
      "text/plain": [
       "interactive(children=(Dropdown(description='<div style = \"height:100px;width:70px;border-style:#;padding-botto…"
      ]
     },
     "metadata": {},
     "output_type": "display_data"
    }
   ],
   "source": [
    "\n",
    "menu = np.array(final_df['original_title'].values.tolist()) \n",
    "menu = np.unique(menu)\n",
    "\n",
    "DropDown = widgets.Dropdown(options=menu,\n",
    "    value='Spider-Man 2',\n",
    "    description='<div style = \"height:100px;width:70px;border-style:#;padding-bottom:10px;font-family:Trebuchet MS;font-size:15px;font-style:bold;font-color:#999999;\"><b>Movies</b></div> :</br></br>',\n",
    ")\n",
    "\n",
    "    \n",
    "def highlight_col(x):\n",
    "    original_title = 'background-color: #d5ff80'\n",
    "    Ratings =        'background-color: #d5ff80'\n",
    "\n",
    "    df1 = pd.DataFrame('', index=x.index, columns=x.columns)\n",
    "    df1.iloc[:, 0] = original_title\n",
    "    df1.iloc[:, 1] = Ratings\n",
    "    return df1\n",
    "\n",
    "\n",
    "\n",
    "def show_latest_cases(title): \n",
    "    #showDataFrame = returnRecommendedMovies(title)\n",
    "    \n",
    "    pd.options.display.float_format = '{:.1f}'.format\n",
    "    showDataFrame = result_df.copy()\n",
    "    showDataFrame = showDataFrame.drop(['id'],axis=1)\n",
    "    showDataFrame= showDataFrame.rename(columns={'original_title':'Movies','vote_average':'Ratings'})\n",
    "    th_props = [\n",
    "         ('font-size', '20px'),\n",
    "         ('text-align', 'center'),\n",
    "         ('font-weight', 'bold'),\n",
    "         ('color', '#999999'),\n",
    "         ('background-color', '#f7f7f9')\n",
    "     ]\n",
    "\n",
    "    # Set table styles\n",
    "    styles = [\n",
    "        dict(selector=\"th\", props=th_props)\n",
    "    ]\n",
    "    s = showDataFrame.style.apply(highlight_col, axis=None) \n",
    "    s = s.hide_index()\n",
    "    s.set_table_styles(styles)\n",
    "    s.set_properties(**{'border-style': 'solid',\n",
    "                        'border-color': '#e0e0eb',\n",
    "                        'border-width':'0.015px',\n",
    "                        'color': 'black',\n",
    "                        'font-family':'Trebuchet MS',\n",
    "                        'font-weight':'bold',\n",
    "                        'text-align':'center',\n",
    "                        'width':'255px'\n",
    "                           })\n",
    "    s.set_precision(1)\n",
    "    s = s.set_caption('<h2>TOP FIVE RECOMMENDED MOVIES RELATED TO TITLE</h2><br>')\n",
    "    pd.option_context('display.colheader_justify','center')\n",
    "    return s\n",
    "\n",
    "#displayRow(box)\n",
    "DropDown.layout.height = '40px'\n",
    "#displayRecommendedMovieList()\n",
    "interact(show_latest_cases, title=DropDown);\n",
    "\n"
   ]
  },
  {
   "cell_type": "code",
   "execution_count": 27,
   "metadata": {},
   "outputs": [],
   "source": [
    "\n",
    "api_key = 'XXXXXXXXXXXXXXXXXXXX'\n",
    "language = 'en-US'\n",
    "\n",
    "images = []\n",
    "recommended_movie_titles = []\n",
    "placeholder = Image.open(\"placeholder_desaturated.jpg\")\n",
    "\n",
    "returnRecommendedMovies(DropDown.get_interact_value())\n",
    "for i in result_df['id'].head(12):\n",
    "    movie_id = str(i)\n",
    "    url_get_poster_path ='https://api.themoviedb.org/3/movie/'+movie_id+'?api_key='+api_key+'&language='+language+''\n",
    "    response = requests.get(url_get_poster_path)\n",
    "    #print(response.status_code)\n",
    "    #print(response.content)\n",
    "    \n",
    "\n",
    "    # Get the response data as a python object. Verify that it's a dictionary.\n",
    "    try:\n",
    "        data = response.json()\n",
    "        \n",
    "        #print(type(data))\n",
    "        movie_title = data.get('original_title')\n",
    "        #print(movie_title)\n",
    "        recommended_movie_titles.append(movie_title)\n",
    "        poster_path = data.get('belongs_to_collection')['poster_path']\n",
    "        #print(poster_path)\n",
    "\n",
    "        if poster_path != 'None':\n",
    "            url_get_poster ='https://image.tmdb.org/t/p/w200'+poster_path+''\n",
    "            image = Image.open(requests.get(url_get_poster, stream=True).raw)\n",
    "            images.append(image)\n",
    "            #print(image)\n",
    "    except Exception as e:\n",
    "        #print (e)\n",
    "        images.append(placeholder)\n",
    "        #print (\"\")\n",
    "        "
   ]
  },
  {
   "cell_type": "code",
   "execution_count": 28,
   "metadata": {},
   "outputs": [
    {
     "name": "stdout",
     "output_type": "stream",
     "text": [
      "12\n"
     ]
    }
   ],
   "source": [
    "print(len(images))"
   ]
  },
  {
   "cell_type": "code",
   "execution_count": 29,
   "metadata": {},
   "outputs": [],
   "source": [
    "def VBox(*pargs, **kwargs):\n",
    "    \"\"\"Displays multiple widgets vertically using the flexible box model.\"\"\"\n",
    "    box = Box(*pargs, **kwargs)\n",
    "    box.layout.display = 'flex'\n",
    "    box.layout.flex_flow = 'column'\n",
    "    box.layout.align_items = 'stretch'\n",
    "    return box\n",
    "\n",
    "def HBox(*pargs, **kwargs):\n",
    "    \"\"\"Displays multiple widgets horizontally using the flexible box model.\"\"\"\n",
    "    box = Box(*pargs, **kwargs)\n",
    "    box.layout.display = 'flex'\n",
    "    box.layout.align_items = 'stretch'\n",
    "    return box\n"
   ]
  },
  {
   "cell_type": "code",
   "execution_count": 30,
   "metadata": {},
   "outputs": [],
   "source": [
    "def make_box_for_grid(image_widget, fit):\n",
    "    \"\"\"\n",
    "    Make a VBox to hold caption/image for demonstrating\n",
    "    option_fit values.\n",
    "    \"\"\"\n",
    "    # Make the caption\n",
    "    fit_str = str(fit)\n",
    "\n",
    "    h = HTML(value='' + str(fit_str) + '')\n",
    "\n",
    "    # Make the green box with the image widget inside it\n",
    "    boxb = Box()\n",
    "    boxb.layout = Layout()\n",
    "    boxb.children = [image_widget]\n",
    "\n",
    "    # Compose into a vertical box\n",
    "    vb = VBox()\n",
    "    vb.layout.align_items = 'center'\n",
    "    vb.children = [h, boxb]\n",
    "    return vb"
   ]
  },
  {
   "cell_type": "code",
   "execution_count": 31,
   "metadata": {},
   "outputs": [],
   "source": [
    "def displayRow(box):\n",
    "    sidebyside = widgets.HBox(box)\n",
    "    display(sidebyside)"
   ]
  },
  {
   "cell_type": "code",
   "execution_count": 32,
   "metadata": {},
   "outputs": [],
   "source": [
    "widgetList = []\n",
    "for image in images:\n",
    "    byteIO = io.BytesIO()\n",
    "    image.save(byteIO, format='JPEG')\n",
    "    widgetList.append(widgets.Image(value=byteIO.getvalue(), width=200, height=300))"
   ]
  },
  {
   "cell_type": "code",
   "execution_count": 33,
   "metadata": {},
   "outputs": [],
   "source": [
    "boxes = []\n",
    "i = 0\n",
    "#print (\"Length widgetList: \", len(widgetList))\n",
    "#print (\"Length movieTitles: \", len(movie_titles))\n",
    "while(i < len(recommended_movie_titles)):\n",
    "    boxes.append(make_box_for_grid(widgetList[i], recommended_movie_titles[i]))\n",
    "    i= i+1"
   ]
  },
  {
   "cell_type": "code",
   "execution_count": 34,
   "metadata": {},
   "outputs": [
    {
     "data": {
      "application/vnd.jupyter.widget-view+json": {
       "model_id": "7845534fcca2493db6675ebf8c20d467",
       "version_major": 2,
       "version_minor": 0
      },
      "text/plain": [
       "HBox(children=(Box(children=(HTML(value='Spider-Man 3'), Box(children=(Image(value=b'\\xff\\xd8\\xff\\xe0\\x00\\x10J…"
      ]
     },
     "metadata": {},
     "output_type": "display_data"
    },
    {
     "data": {
      "application/vnd.jupyter.widget-view+json": {
       "model_id": "2729e7e0eb5a45e19cee75c41ef8a4be",
       "version_major": 2,
       "version_minor": 0
      },
      "text/plain": [
       "HBox(children=(Box(children=(HTML(value='Superman'), Box(children=(Image(value=b'\\xff\\xd8\\xff\\xe0\\x00\\x10JFIF\\…"
      ]
     },
     "metadata": {},
     "output_type": "display_data"
    },
    {
     "data": {
      "application/vnd.jupyter.widget-view+json": {
       "model_id": "d1c78817df7642dd9a8165026858b249",
       "version_major": 2,
       "version_minor": 0
      },
      "text/plain": [
       "HBox(children=(Box(children=(HTML(value='Bronson'), Box(children=(Image(value=b'\\xff\\xd8\\xff\\xe0\\x00\\x10JFIF\\x…"
      ]
     },
     "metadata": {},
     "output_type": "display_data"
    }
   ],
   "source": [
    "box1 = boxes[0:4]\n",
    "box2 = boxes[4:8]\n",
    "box3 = boxes[8::]\n",
    "\n",
    "displayRow(box1)\n",
    "displayRow(box2)\n",
    "displayRow(box3)"
   ]
  },
  {
   "cell_type": "code",
   "execution_count": 80,
   "metadata": {},
   "outputs": [],
   "source": [
    "# ! pip install requests\n",
    "# ! pip install responses"
   ]
  }
 ],
 "metadata": {
  "kernelspec": {
   "display_name": "Python 3",
   "language": "python",
   "name": "python3"
  },
  "language_info": {
   "codemirror_mode": {
    "name": "ipython",
    "version": 3
   },
   "file_extension": ".py",
   "mimetype": "text/x-python",
   "name": "python",
   "nbconvert_exporter": "python",
   "pygments_lexer": "ipython3",
   "version": "3.7.6"
  }
 },
 "nbformat": 4,
 "nbformat_minor": 4
}
